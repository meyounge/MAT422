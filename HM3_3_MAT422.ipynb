{
  "nbformat": 4,
  "nbformat_minor": 0,
  "metadata": {
    "colab": {
      "provenance": [],
      "authorship_tag": "ABX9TyN8kROKfWQRgjnfuUcsRLWr",
      "include_colab_link": true
    },
    "kernelspec": {
      "name": "python3",
      "display_name": "Python 3"
    },
    "language_info": {
      "name": "python"
    }
  },
  "cells": [
    {
      "cell_type": "markdown",
      "metadata": {
        "id": "view-in-github",
        "colab_type": "text"
      },
      "source": [
        "<a href=\"https://colab.research.google.com/github/meyounge/MAT422/blob/main/HM3_3_MAT422.ipynb\" target=\"_parent\"><img src=\"https://colab.research.google.com/assets/colab-badge.svg\" alt=\"Open In Colab\"/></a>"
      ]
    },
    {
      "cell_type": "markdown",
      "source": [
        "#Homework 3.3"
      ],
      "metadata": {
        "id": "oF99eV9N81hQ"
      }
    },
    {
      "cell_type": "markdown",
      "source": [
        "## Unconstrained Problem\n",
        "$$ \\min_{x \\in \\mathbb{R}^n} f(x) $$"
      ],
      "metadata": {
        "id": "nPndRf1iLCQw"
      }
    },
    {
      "cell_type": "markdown",
      "source": [
        "##Necessary and sufficient conditions of local minimizers `"
      ],
      "metadata": {
        "id": "vvUbPb-O87xv"
      }
    },
    {
      "cell_type": "markdown",
      "source": [
        "#### 0th-Order Necessary Conditions\n",
        "If $ x^* $ is a local minimizer of $ f $ and $ f $ is continuous in an open neighborhood of $ x^* $ :\n",
        "*   $ f(x) \\ge f(x^*) $ for all $x$\n",
        "\n",
        "#### 1st-Order Necessary Conditions\n",
        "If $ x^* $ is a local minimizer of $ f $ and $ f $ is continuously differentiable in an open neighborhood of $ x^* $, then:\n",
        "*   $ \\nabla f(x^*) = 0 $\n",
        "\n",
        "#### 2nd-Order Necessary Conditions\n",
        "If $  x^*  $ is a local minimizer of $ f $ and $ \\nabla^2 f $ is continuous in an open neighborhood of $ x^* $, then:\n",
        "*   $ \\nabla^2 f(x^*) $ is concave\n",
        "*   $  \\nabla^2 f(x^*) $ is positive definite.\n"
      ],
      "metadata": {
        "id": "iQf_Bz1d9Vdl"
      }
    },
    {
      "cell_type": "markdown",
      "source": [
        "Find a local minimizer of the following function:\n",
        "$ f(x, y) = x^2 + y^3 - xy^2 + 7 + 3x $\n",
        "\n",
        "Newton's Method:\n",
        "*   $\\nabla f(x, y) = <2x - y^2 + 3, 3y^2 - 2xy>$\n",
        "*   $\\nabla^2 f(x, y) = <[2, -2y], [-2y, 6y - 2x]>$\n",
        "*   $ [x, y] = [x, y] - α \\nabla f(x, y)/\\nabla^2 f(x, y) $\n",
        "\n"
      ],
      "metadata": {
        "id": "M1rJ4M-vKEFU"
      }
    },
    {
      "cell_type": "code",
      "source": [
        "import numpy as np\n",
        "\n",
        "# Guess\n",
        "v = np.array([1., 1.])\n",
        "a = 0.0005\n",
        "\n",
        "def f_xy(x, y):\n",
        "  return x**2 + y**3 - x*y**2 + 7 + 3*x\n",
        "\n",
        "def I7_f_xy(x, y):\n",
        "  return np.array([2*x-y**2+3,3*y**2-2*x*y])\n",
        "\n",
        "def I72_f_xy(x, y):\n",
        "  return np.array([[2, -2*y], [-2*y, 6*y - 2*x]])\n",
        "\n",
        "print(\"Guess: \")\n",
        "print(v)\n",
        "\n",
        "tol = 0.001\n",
        "while not (I7_f_xy(v[0], v[1]) < tol).all():\n",
        "  v = v - a*np.matmul(np.linalg.inv(I72_f_xy(v[0], v[1])),I7_f_xy(v[0], v[1]))\n",
        "  #v = v - a*I7_f_xy(v[0], v[1])\n",
        "  i = i + 1\n",
        "print()\n",
        "print(\"Solution: \")\n",
        "print(f\"X = {v[0]:.3f}, Y = {v[1]:.3f}\")\n",
        "print(\"f(x, y) = \",f_xy(v[0], v[1]))\n",
        "print(\"I7f(x, y) = \",I7_f_xy(v[0], v[1]))"
      ],
      "metadata": {
        "colab": {
          "base_uri": "https://localhost:8080/"
        },
        "id": "FKMwuS0UK24J",
        "outputId": "52f70be5-ea64-401c-e174-e2f7eebbff83"
      },
      "execution_count": 86,
      "outputs": [
        {
          "output_type": "stream",
          "name": "stdout",
          "text": [
            "Guess: \n",
            "[1. 1.]\n",
            "\n",
            "Solution: \n",
            "X = -1.500, Y = 0.000\n",
            "f(x, y) =  4.75000026031087\n",
            "I7f(x, y) =  [0.00099981 0.00024978]\n"
          ]
        }
      ]
    },
    {
      "cell_type": "markdown",
      "source": [
        "##Convexity and global minimizers"
      ],
      "metadata": {
        "id": "_F3hfqXoK1zp"
      }
    },
    {
      "cell_type": "markdown",
      "source": [
        "#### 0th-Order Necessary Conditions\n",
        "If $ x^* $ is a global minimizer of $ f $ and $ f $ is continuous in an open neighborhood of $ x^* $ :\n",
        "*   $ f(x) \\ge f(x^*) $ for all $x$\n",
        "\n",
        "#### 1st-Order Necessary Conditions\n",
        "If $ x^* $ is a global minimizer of $ f $ and $ f $ is continuously differentiable in an open neighborhood of $ x^* $, then:\n",
        "*   $ \\nabla f(x^*) = 0 $\n",
        "\n",
        "#### 2nd-Order Necessary Conditions (concavity)\n",
        "If $  x^*  $ is a global minimizer of $ f $ and $ \\nabla^2 f $ is continuous in an open neighborhood of $ x^* $, then:\n",
        "*   $  \\nabla^2 f(x^*) $ is positive definite.\n",
        "*   $ \\nabla^2 f(x^*) $ is concave"
      ],
      "metadata": {
        "id": "RZb2CAzhK6CI"
      }
    },
    {
      "cell_type": "markdown",
      "source": [
        "Find a global minimizer of the following function: $ f(x) = 5-x-3x^2+|x^3| $ and graph it to show that it is the global minima\n",
        "\n",
        "Newton's method:\n",
        "*   $\\nabla f(x, y) = -1 - 6x + 3x^2 $\n",
        "*   $\\nabla^2 f(x, y) = -6 + 6x$\n",
        "*   $ x = x - α\\nabla f(x, y)/\\nabla^2 f(x, y) $"
      ],
      "metadata": {
        "id": "owWNhjwjOKSM"
      }
    },
    {
      "cell_type": "code",
      "execution_count": 167,
      "metadata": {
        "colab": {
          "base_uri": "https://localhost:8080/",
          "height": 684
        },
        "id": "iuleNOol80r7",
        "outputId": "c7b24e9b-e166-4e7b-bc66-264c4f858464"
      },
      "outputs": [
        {
          "output_type": "display_data",
          "data": {
            "text/plain": [
              "<Figure size 640x480 with 1 Axes>"
            ],
            "image/png": "[encoded data removed]"
          },
          "metadata": {}
        },
        {
          "output_type": "stream",
          "name": "stdout",
          "text": [
            "\n",
            "Guess:  1.5\n",
            "Global Minima\n",
            "X =  2.1546873535105178\n",
            "I7f(x) =  -9.134692863099758e-05  =~ 0\n",
            "I7^2f(x) =  6.928124121063107  > 0\n",
            "\n",
            "Guess:  -3\n",
            "Local Minima\n",
            "X =  -1.816516435829322\n",
            "I7f(x) =  -9.726993825864838e-05  =~ 0\n",
            "I7^2f(x) =  4.899098614975932  > 0\n"
          ]
        }
      ],
      "source": [
        "import numpy as np\n",
        "import matplotlib.pyplot as plt\n",
        "\n",
        "# Guess\n",
        "x = 1.5\n",
        "a = 0.1\n",
        "\n",
        "def f_x(x):\n",
        "  return 5 - x - 3 * x**2 + np.abs(x**3)\n",
        "\n",
        "def I7_f_x(x):\n",
        "  if x > 0:\n",
        "    return -1 - 6 * x + 3 * x**2\n",
        "  else:\n",
        "    return -1 - 6 * x - 3 * x**2\n",
        "\n",
        "\n",
        "def I72_f_x(x):\n",
        "  if x > 0:\n",
        "    return -6 + 6 * x\n",
        "  else:\n",
        "    return -6 - 6 * x\n",
        "\n",
        "X = np.linspace(-4, 4, 1000)\n",
        "Y = f_x(X)\n",
        "\n",
        "#Plot the function\n",
        "plt.plot(X, Y)\n",
        "plt.xlabel('X')\n",
        "plt.ylabel('Y')\n",
        "plt.title('Graph of Y = f(X)')\n",
        "plt.grid(True)\n",
        "plt.show()\n",
        "print()\n",
        "print(\"Guess: \", x)\n",
        "\n",
        "#Find the global minima\n",
        "tol = 0.0001\n",
        "while np.abs(I7_f_x(x)) > tol:\n",
        "  x = x - a * I7_f_x(x)/I72_f_x(x)\n",
        "\n",
        "\n",
        "print(\"Global Minima\")\n",
        "print(\"X = \", x)\n",
        "print(\"I7f(x) = \", I7_f_x(x), \" =~ 0\")\n",
        "print(\"I7^2f(x) = \", I72_f_x(x), \" > 0\")\n",
        "\n",
        "#Find the local minima\n",
        "x = -3\n",
        "a = 0.1\n",
        "print()\n",
        "print(\"Guess: \", x)\n",
        "\n",
        "tol = 0.0001\n",
        "while np.abs(I7_f_x(x)) > tol:\n",
        "  x = x - a * I7_f_x(x)/I72_f_x(x)\n",
        "\n",
        "print(\"Local Minima\")\n",
        "print(\"X = \", x)\n",
        "print(\"I7f(x) = \", I7_f_x(x), \" =~ 0\")\n",
        "print(\"I7^2f(x) = \", I72_f_x(x), \" > 0\")\n",
        "\n"
      ]
    },
    {
      "cell_type": "markdown",
      "source": [
        "##Gradient descent"
      ],
      "metadata": {
        "id": "ezoFGC0KPpvR"
      }
    },
    {
      "cell_type": "markdown",
      "source": [
        "###Gradient decents (method of finding minima)\n",
        "Repeat the following until your loss function meets a set tolerance\n",
        "\n",
        "*alpha is a hyper paramter*\n",
        "\n",
        "$ w = w_0 - α * ∇F(w)$\n",
        "\n",
        "This is what is known as stocastic gradient decents, it is the simplist form of gradient decents\n",
        "\n",
        "Create a stocastic gradient decents algorthm using the MSE loss function for iris dataset\n",
        "\n",
        "$$ {MSE} = \\frac{1}{n} \\sum_{i=1}^{n} (y_i - \\hat{y}_i)^2 $$"
      ],
      "metadata": {
        "id": "AQcdqZf_Psr8"
      }
    },
    {
      "cell_type": "code",
      "source": [
        "# Guess\n",
        "x = 1.5\n",
        "a = 0.1\n",
        "\n",
        "def MSE(w, x, y):\n",
        "  return np.sum(np.matmul(x, w.T) - y)**2\n",
        "\n",
        "def I7_MSE(x, w, y):\n",
        "  return np.matmul(x.T, np.matmul(x, w.T) - y)\n",
        "\n",
        "\n",
        "from sklearn import datasets\n",
        "from sklearn.model_selection import train_test_split\n",
        "from sklearn.metrics import r2_score\n",
        "\n",
        "iris = datasets.load_iris()\n",
        "X_train, X_test, Y_train, Y_test = train_test_split(iris.data, iris.target, train_size=0.8)\n",
        "\n",
        "w = np.ones(len(X_train[0]))\n",
        "\n",
        "tol = 0.00001\n",
        "a = 0.0001\n",
        "while MSE(x = X_train, y = Y_train, w = w) > tol:\n",
        "  w = w - a * I7_MSE(x = X_train, y = Y_train, w = w)\n",
        "\n",
        "print(w)\n",
        "y_pred = np.matmul(X_test, w.T)\n",
        "print(\"R^2 = \", r2_score(Y_test, y_pred))\n"
      ],
      "metadata": {
        "colab": {
          "base_uri": "https://localhost:8080/"
        },
        "id": "EMVUdU_Qsvvi",
        "outputId": "8b9609fd-b2c4-4aad-c7ac-1ccb98d10d4e"
      },
      "execution_count": 166,
      "outputs": [
        {
          "output_type": "stream",
          "name": "stdout",
          "text": [
            "[-0.28384817  0.24398436  0.26506833  0.75929587]\n",
            "R^2 =  0.9069248096320065\n"
          ]
        }
      ]
    }
  ]
}