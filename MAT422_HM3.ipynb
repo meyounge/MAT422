{
  "nbformat": 4,
  "nbformat_minor": 0,
  "metadata": {
    "colab": {
      "provenance": [],
      "authorship_tag": "ABX9TyMTzq/4AnWL/piNw6DKrhdk",
      "include_colab_link": true
    },
    "kernelspec": {
      "name": "python3",
      "display_name": "Python 3"
    },
    "language_info": {
      "name": "python"
    }
  },
  "cells": [
    {
      "cell_type": "markdown",
      "metadata": {
        "id": "view-in-github",
        "colab_type": "text"
      },
      "source": [
        "<a href=\"https://colab.research.google.com/github/meyounge/MAT422/blob/main/MAT422_HM3.ipynb\" target=\"_parent\"><img src=\"https://colab.research.google.com/assets/colab-badge.svg\" alt=\"Open In Colab\"/></a>"
      ]
    },
    {
      "cell_type": "markdown",
      "source": [
        "#1.4"
      ],
      "metadata": {
        "id": "_zxb1PcAZ2VR"
      }
    },
    {
      "cell_type": "markdown",
      "source": [
        "##1.4.1 Singular value decomposition"
      ],
      "metadata": {
        "id": "KifSwHZfZ6zv"
      }
    },
    {
      "cell_type": "code",
      "execution_count": 89,
      "metadata": {
        "colab": {
          "base_uri": "https://localhost:8080/"
        },
        "id": "ne8qFBqRSTe3",
        "outputId": "861d5a48-823d-4a3b-bf4a-56f6a1db4c5f"
      },
      "outputs": [
        {
          "output_type": "stream",
          "name": "stdout",
          "text": [
            "[[2 3 7]\n",
            " [9 5 3]]\n",
            "[[ 5.32429422  0.          0.        ]\n",
            " [ 0.         12.19228818  0.        ]]\n",
            "[[ 0.57521727  0.01847694 -0.81779196]\n",
            " [ 0.71323729  0.47818112  0.51247965]\n",
            " [ 0.40052173 -0.87806687  0.26187959]]\n",
            "[[-0.84869058  0.52888968]\n",
            " [ 0.52888968  0.84869058]]\n",
            "\n",
            "[[2. 3. 7.]\n",
            " [9. 5. 3.]]\n"
          ]
        }
      ],
      "source": [
        "import numpy as np\n",
        "from scipy.linalg import null_space\n",
        "# This function will generate a set of vectors that form a basis\n",
        "def randomMatrix(range = [0, 100],dim=(3,3)):\n",
        "  return np.random.randint(range[0], range[1], dim)\n",
        "\n",
        "dim = (2,3)\n",
        "A = randomMatrix([0, 10], dim)\n",
        "print(A)\n",
        "\n",
        "eigValU, eigVecU = np.linalg.eigh(np.matmul(A, A.T))\n",
        "\n",
        "eigValU = np.append(eigValU, 0)\n",
        "sigma = np.sqrt(eigValU)\n",
        "mat = np.matmul(A.T, A)\n",
        "\n",
        "from scipy.linalg import null_space\n",
        "\n",
        "EigenVectors = []\n",
        "for eig in eigValU:\n",
        "  X = np.diag(np.full(dim[1], eig))\n",
        "  EigenVectors.append(null_space(mat - X).flatten())\n",
        "\n",
        "V = np.array(EigenVectors)\n",
        "SIGMA = np.diag(sigma)\n",
        "SIGMA = SIGMA[:-1]\n",
        "U = eigVecU\n",
        "\n",
        "print(SIGMA)\n",
        "print(V)\n",
        "print(U)\n",
        "\n",
        "print()\n",
        "print(np.round(np.matmul(np.matmul(U, SIGMA), V), 3))"
      ]
    }
  ]
}