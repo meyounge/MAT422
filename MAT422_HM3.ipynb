{
  "nbformat": 4,
  "nbformat_minor": 0,
  "metadata": {
    "colab": {
      "provenance": [],
      "authorship_tag": "ABX9TyOlEwYhBpdl1B1WQCbWwcu/",
      "include_colab_link": true
    },
    "kernelspec": {
      "name": "python3",
      "display_name": "Python 3"
    },
    "language_info": {
      "name": "python"
    }
  },
  "cells": [
    {
      "cell_type": "markdown",
      "metadata": {
        "id": "view-in-github",
        "colab_type": "text"
      },
      "source": [
        "<a href=\"https://colab.research.google.com/github/meyounge/MAT422/blob/main/MAT422_HM3.ipynb\" target=\"_parent\"><img src=\"https://colab.research.google.com/assets/colab-badge.svg\" alt=\"Open In Colab\"/></a>"
      ]
    },
    {
      "cell_type": "code",
      "execution_count": 16,
      "metadata": {
        "colab": {
          "base_uri": "https://localhost:8080/"
        },
        "id": "ne8qFBqRSTe3",
        "outputId": "fd9faa9b-d361-4430-8096-804aa44c5a32"
      },
      "outputs": [
        {
          "output_type": "stream",
          "name": "stdout",
          "text": [
            "[[ 6 -2  2]\n",
            " [-5 -5 -5]]\n",
            "starting matrix\n",
            "[[ 44 -30]\n",
            " [-30  75]]\n",
            "\n",
            "<class 'numpy.ndarray'>\n",
            "[]\n"
          ]
        }
      ],
      "source": [
        "import numpy as np\n",
        "\n",
        "# This function will generate a set of vectors that form a basis\n",
        "def randomMatrix(range = [0, 100],dim=(3,3)):\n",
        "  return np.random.randint(range[0], range[1], dim)\n",
        "\n",
        "\n",
        "dim = (2, 3)\n",
        "A = randomMatrix([-10, 10], dim)\n",
        "\n",
        "print(A)\n",
        "\n",
        "mat = np.matmul(A, A.T)\n",
        "\n",
        "print(\"starting matrix\")\n",
        "print(mat)\n",
        "print()\n",
        "\n",
        "eigVal = np.linalg.eigvals(mat)\n",
        "eigVal = np.append(mat)\n",
        "sigma = np.sqrt(eigVal)\n",
        "\n",
        "\n",
        "from scipy.linalg import null_space\n",
        "\n",
        "EigenVectors = []\n",
        "for eig in eigVal:\n",
        "  X = np.diag(np.full(dim, eig))\n",
        "  EigenVectors.append(null_space(mat - X).flatten())\n",
        "\n",
        "print(np.array(EigenVectors))"
      ]
    }
  ]
}