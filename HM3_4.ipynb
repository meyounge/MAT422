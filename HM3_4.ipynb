{
  "nbformat": 4,
  "nbformat_minor": 0,
  "metadata": {
    "colab": {
      "provenance": [],
      "authorship_tag": "ABX9TyOVGhLSzlKSt9O5BEUPPLHf",
      "include_colab_link": true
    },
    "kernelspec": {
      "name": "python3",
      "display_name": "Python 3"
    },
    "language_info": {
      "name": "python"
    }
  },
  "cells": [
    {
      "cell_type": "markdown",
      "metadata": {
        "id": "view-in-github",
        "colab_type": "text"
      },
      "source": [
        "<a href=\"https://colab.research.google.com/github/meyounge/MAT422/blob/main/HM3_4.ipynb\" target=\"_parent\"><img src=\"https://colab.research.google.com/assets/colab-badge.svg\" alt=\"Open In Colab\"/></a>"
      ]
    },
    {
      "cell_type": "markdown",
      "source": [
        "#Homework 3.4"
      ],
      "metadata": {
        "id": "U8RglOb32W_I"
      }
    },
    {
      "cell_type": "markdown",
      "source": [
        "##3.4. Logistic regression"
      ],
      "metadata": {
        "id": "YyGaRTz32Zst"
      }
    },
    {
      "cell_type": "markdown",
      "source": [
        "\"Logistic regression is a statistical model that uses the logistic function, or logit function, in mathematics as the equation between x and y. The logit function maps y as a sigmoid function of x.\n",
        "$$ \\sigma(z) = \\frac{1}{1 + e^{-z}} $$\n",
        "\n",
        "Linear regression predicts a continuous dependent variable by using a given set of independent variables. A continuous variable can have a range of values, such as price or age. So linear regression can predict actual values of the dependent variable. It can answer questions like \"What will the price of rice be after 10 years?\"\n",
        "\n",
        "Unlike linear regression, logistic regression is a classification algorithm. It cannot predict actual values for continuous data. It can answer questions like \"Will the price of rice increase by 50% in 10 years?\"\"$$ $$\n",
        "Quoted from https://aws.amazon.com/what-is/logistic-regression/ which did not give authorship on the article"
      ],
      "metadata": {
        "id": "Z3kVUF4T3AGJ"
      }
    },
    {
      "cell_type": "markdown",
      "source": [
        "Use logistic regression to categorize the sklearn wine dataset using gradient desents. (you may approximate the gradient)\n",
        "This will display an understanding in gradient desents and logistic regression as a classification algorithm."
      ],
      "metadata": {
        "id": "BHLSp0Ci6Zx2"
      }
    },
    {
      "cell_type": "markdown",
      "source": [
        "For my own reference: [row][col]"
      ],
      "metadata": {
        "id": "lkU4FF6ZD2FS"
      }
    },
    {
      "cell_type": "markdown",
      "source": [
        "Below is a sklearn model for implementing logistic regression"
      ],
      "metadata": {
        "id": "XK7ZvncIrjqQ"
      }
    },
    {
      "cell_type": "code",
      "source": [
        "import numpy as np\n",
        "from sklearn.preprocessing import OneHotEncoder\n",
        "import pandas as pd\n",
        "\n",
        "from sklearn import datasets\n",
        "from sklearn.model_selection import train_test_split\n",
        "from sklearn.linear_model import LogisticRegression\n",
        "from sklearn.metrics import accuracy_score\n",
        "\n",
        "def one_hot_encode(y):\n",
        "  onehot_encoder = OneHotEncoder(sparse_output=False)\n",
        "  integer_encoded = y.reshape(len(y), 1)\n",
        "  return onehot_encoder.fit_transform(integer_encoded)\n",
        "\n",
        "iris = datasets.load_iris()\n",
        "X = iris.data\n",
        "y = iris.target\n",
        "\n",
        "# bias the inputs\n",
        "init_b = np.ones(len(X))\n",
        "X = np.column_stack((init_b, X))\n",
        "\n",
        "X_train, X_test, y_train, y_test = train_test_split(X, y, test_size=0.3, random_state=95)\n",
        "\n",
        "# Example usage with pandas DataFrame\n",
        "irisp = pd.DataFrame(iris.data, columns=iris.feature_names)\n",
        "\n",
        "logistic_regression_model = LogisticRegression()\n",
        "\n",
        "logistic_regression_model.fit(X_train, y_train)\n",
        "y_pred = logistic_regression_model.predict(X_test)\n",
        "\n",
        "print(y_pred)\n",
        "print(y_test)\n",
        "print(\"Total accuracy: \" + str(round(100 * accuracy_score(y_test, y_pred), 3)) + \"%\")\n"
      ],
      "metadata": {
        "colab": {
          "base_uri": "https://localhost:8080/"
        },
        "id": "skzKBE5xpWxa",
        "outputId": "e72532be-2854-4e74-bfce-235e8b2a111a"
      },
      "execution_count": 225,
      "outputs": [
        {
          "output_type": "stream",
          "name": "stdout",
          "text": [
            "[2 2 2 0 0 2 1 2 0 1 0 1 0 2 2 2 1 1 2 1 1 2 1 0 0 0 1 1 0 2 1 2 2 2 2 2 1\n",
            " 0 0 1 1 1 0 2 2]\n",
            "[2 2 2 0 0 2 1 2 0 1 0 1 0 2 2 2 1 1 2 1 1 2 1 0 0 0 1 1 0 1 1 2 2 2 2 2 1\n",
            " 0 0 1 1 1 0 2 2]\n",
            "Total accuracy: 97.778%\n"
          ]
        }
      ]
    },
    {
      "cell_type": "markdown",
      "source": [
        "###Below is refactored code for an original script I wrote for a different machine learning class that tought linear regression, it for whatever reason doesn't work despite it being equavialent code (I've troubleshot for hours, I give up)... The one below it however is the original; it does work."
      ],
      "metadata": {
        "id": "k7_2JmHIpXBi"
      }
    },
    {
      "cell_type": "code",
      "execution_count": 219,
      "metadata": {
        "colab": {
          "base_uri": "https://localhost:8080/"
        },
        "id": "nRIOiBSo2Uz1",
        "outputId": "ff0fd453-0023-4976-8504-ffd7b9059a8b"
      },
      "outputs": [
        {
          "output_type": "stream",
          "name": "stdout",
          "text": [
            "930.911769563196\n",
            "Epsilon: 1e-05\n",
            "0.0025530562849375785\n"
          ]
        }
      ],
      "source": [
        "def sigmoid(Z):\n",
        "  return 1 / (1 + np.exp(-np.clip(Z, -250, 250)))\n",
        "\n",
        "def one_hot_encode(y):\n",
        "  onehot_encoder = OneHotEncoder(sparse_output=False)\n",
        "  integer_encoded = y.reshape(len(y), 1)\n",
        "  return onehot_encoder.fit_transform(integer_encoded)\n",
        "\n",
        "def argmax(Z):\n",
        "  maxz = max(Z)\n",
        "  return [1.0 if z >= maxz else 0 for z in Z]\n",
        "\n",
        "def logistic_regression_grad(yp, w, Xp):\n",
        "  U = yp - sigmoid(np.matmul(w, Xp.T)).T\n",
        "  return np.matmul(Xp.T, U).T\n",
        "\n",
        "def calculate_tp_tn_accuracy(true_labels, predicted_labels):\n",
        "  # Calculate true positive (TP) and true negative (TN) counts\n",
        "  TP = np.sum(np.logical_and(predicted_labels == 1, true_labels == 1))\n",
        "  TN = np.sum(np.logical_and(predicted_labels == 0, true_labels == 0))\n",
        "\n",
        "  # Calculate total counts of positive and negative instances\n",
        "  P = np.sum(true_labels == 1)\n",
        "  N = np.sum(true_labels == 0)\n",
        "\n",
        "  # Calculate true positive (TP) and true negative (TN) accuracies\n",
        "  TP_accuracy = TP / P if P > 0 else 0\n",
        "  TN_accuracy = TN / N if N > 0 else 0\n",
        "\n",
        "  return TP_accuracy, TN_accuracy\n",
        "\n",
        "y_train = one_hot_encode(y_train)\n",
        "y_test = one_hot_encode(y_test)\n",
        "\n",
        "w = np.ones((len(y_train[0]) , len(X_train[0])))\n",
        "\n",
        "i = 0\n",
        "high = 25000\n",
        "beta = 10**-7\n",
        "a1 = 1\n",
        "eps = 10**-5\n",
        "\n",
        "alpha = beta + a1\n",
        "T7w = w + np.multiply(alpha, logistic_regression_grad(y_train, w, X_train))\n",
        "print(np.linalg.norm(w - T7w))\n",
        "print(\"Epsilon: \" + str(eps))\n",
        "er = [0] * high\n",
        "while np.linalg.norm(w -T7w) > eps and i < high:\n",
        "    alpha = beta + a1 / (i**1.2 + 1)\n",
        "    w = T7w\n",
        "    from sklearn.metrics import accuracy_score\n",
        "    er[i] = 1.0 - accuracy_score(y_train, np.where(np.matmul(w, X_train.T).T > 0, 1, 0))\n",
        "    T7w = w - alpha * logistic_regression_grad(y_train, w, X_train)\n",
        "    i += 1\n",
        "\n",
        "print(np.linalg.norm(w -T7w))\n",
        "\n",
        "\n",
        "\n"
      ]
    },
    {
      "cell_type": "code",
      "source": [
        "import matplotlib.pyplot as plt\n",
        "x = np.arange(i)\n",
        "plt.plot(x, er[:i], marker='o', linestyle='-')\n",
        "\n",
        "# Adding labels and title\n",
        "plt.xlabel('Iterations')\n",
        "plt.ylabel('Error')\n",
        "plt.title('Accuracy vs Iteration')\n",
        "\n",
        "# Showing the plot\n",
        "plt.grid(True)\n",
        "plt.show()\n",
        "\n",
        "print(\"iterations: \" +str(i))\n",
        "print(np.round(T7w,5))\n",
        "\n",
        "Yp = np.matmul(T7w, X_train.T).T\n",
        "Yp = np.where(Yp > 0, 1, 0)\n",
        "\n",
        "tnA, tpA = calculate_tp_tn_accuracy(y_train, Yp)\n",
        "\n",
        "print(\"\")\n",
        "print(\"Train data:\")\n",
        "print(\"True positive accuracy: \" + str(round(tnA*100,3)) + \"%\")\n",
        "print(\"True negative accuracy: \" + str(round(tpA*100,3)) + \"%\")\n",
        "print(\"Total accuracy: \" + str(round(100 * accuracy_score(y_train, Yp), 3)) + \"%\")\n",
        "\n",
        "Yp = np.matmul(T7w, X_test.T).T\n",
        "Yp = np.where(Yp > 0, 1, 0)\n",
        "\n",
        "tnA, tpA = calculate_tp_tn_accuracy(y_test, Yp)\n",
        "print(\"\")\n",
        "print(\"Test data:\")\n",
        "print(\"True positive accuracy: \" + str(round(tnA*100,3)) + \"%\")\n",
        "print(\"True negative accuracy: \" + str(round(tpA*100,3)) + \"%\")\n",
        "print(\"Total accuracy: \" + str(round(accuracy_score(y_test, Yp) * 100, 3)) + \"%\")\n"
      ],
      "metadata": {
        "colab": {
          "base_uri": "https://localhost:8080/",
          "height": 720
        },
        "id": "6Qq8Zwe_DRHi",
        "outputId": "a3b332c6-23c0-4bf8-9536-fc5267f4fac0"
      },
      "execution_count": 220,
      "outputs": [
        {
          "output_type": "display_data",
          "data": {
            "text/plain": [
              "<Figure size 640x480 with 1 Axes>"
            ],
            "image/png": "[encoded data removed]"
          },
          "metadata": {}
        },
        {
          "output_type": "stream",
          "name": "stdout",
          "text": [
            "iterations: 25000\n",
            "[[-1393.05149  -853.608    -616.70432  -157.85152]\n",
            " [-1450.95673  -712.56737  -986.47067  -305.9235 ]\n",
            " [-1513.82528  -730.76616 -1151.91422  -395.26302]]\n",
            "\n",
            "Train data:\n",
            "True positive accuracy: 0.0%\n",
            "True negative accuracy: 100.0%\n",
            "Total accuracy: 0.0%\n",
            "\n",
            "Test data:\n",
            "True positive accuracy: 0.0%\n",
            "True negative accuracy: 100.0%\n",
            "Total accuracy: 0.0%\n"
          ]
        }
      ]
    },
    {
      "cell_type": "markdown",
      "source": [
        "###The original code from my previous class is below"
      ],
      "metadata": {
        "id": "4s5dRJzBp6aY"
      }
    },
    {
      "cell_type": "code",
      "source": [
        "# -*- coding: utf-8 -*-\n",
        "\"\"\"\n",
        "Created on Tue Feb 27 14:37:31 2024\n",
        "\n",
        "@author: Michael Younger\n",
        "\"\"\"\n",
        "\n",
        "import numpy as np\n",
        "from sklearn.preprocessing import OneHotEncoder\n",
        "import pandas as pd\n",
        "\n",
        "def sumAll(vector):\n",
        "    vector = np.array(vector)  # Convert to numpy array for consistency\n",
        "    return np.sum(vector)\n",
        "\n",
        "def sumMatrix(A, B):\n",
        "    if len(B) != len(A):\n",
        "        return\n",
        "    C = [None] * len(A)\n",
        "    if type(A[0]) == type([]):\n",
        "        for i in range(len(A)):\n",
        "            C[i] = sumMatrix(A[i],B[i])\n",
        "    else:\n",
        "        for i in range(len(A)):\n",
        "            C[i] = A[i] + B[i]\n",
        "    return C\n",
        "\n",
        "def add_intercept(X):\n",
        "    Nobs = X.shape[0]\n",
        "    intercept = np.ones(Nobs, dtype=float)\n",
        "    return np.column_stack((intercept, X))\n",
        "\n",
        "def sigmoid(Z):\n",
        "    return 1 / (1 + np.exp(-np.clip(Z, -250, 250)))\n",
        "\n",
        "def one_hot_encode(y):\n",
        "    onehot_encoder = OneHotEncoder(sparse_output=False)\n",
        "    integer_encoded = y.reshape(len(y), 1)\n",
        "    return onehot_encoder.fit_transform(integer_encoded)\n",
        "\n",
        "def argmax(Z):\n",
        "    maxz = max(Z)\n",
        "    return [1.0 if z >= maxz else 0 for z in Z]\n",
        "\n",
        "def most_highly_correlated(my_dataframe, num_to_report):\n",
        "    # find the correlations\n",
        "    cormatrix = my_dataframe.corr()\n",
        "\n",
        "    # set the correlations on the diagonal or lower triangle to zero,\n",
        "    # so they will not be reported as the highest ones:\n",
        "    cormatrix *= np.tri(*cormatrix.values.shape, k=-1).T\n",
        "\n",
        "    # find the top n correlations\n",
        "    cormatrix = cormatrix.stack()\n",
        "    cormatrix = cormatrix.reindex(cormatrix.abs().sort_values(ascending=False).index).reset_index()\n",
        "\n",
        "    # assign human-friendly names\n",
        "    cormatrix.columns = [\"FirstVariable\", \"SecondVariable\", \"Correlation\"]\n",
        "    return cormatrix.head(num_to_report)\n",
        "\n",
        "def T7g(yp, w, Xp):\n",
        "    XT = np.transpose(Xp)\n",
        "    U = sumMatrix(yp, np.multiply(-1, sigmoid(np.matmul(Xp, w))))\n",
        "    return np.matmul(XT, U)\n",
        "\n",
        "def magnitude(A):\n",
        "    y = 0\n",
        "    for x in A:\n",
        "        y = y + x**2\n",
        "    y = np.sqrt(y)\n",
        "    return y\n",
        "\n",
        "\n",
        "def L2Norm(A):\n",
        "    return np.linalg.norm(A)\n",
        "\n",
        "def calculate_tp_tn_accuracy(true_labels, predicted_labels):\n",
        "    # Calculate true positive (TP) and true negative (TN) counts\n",
        "    TP = np.sum(np.logical_and(predicted_labels == 1, true_labels == 1))\n",
        "    TN = np.sum(np.logical_and(predicted_labels == 0, true_labels == 0))\n",
        "\n",
        "    # Calculate total counts of positive and negative instances\n",
        "    P = np.sum(true_labels == 1)\n",
        "    N = np.sum(true_labels == 0)\n",
        "\n",
        "    # Calculate true positive (TP) and true negative (TN) accuracies\n",
        "    TP_accuracy = TP / P if P > 0 else 0\n",
        "    TN_accuracy = TN / N if N > 0 else 0\n",
        "\n",
        "    return TP_accuracy, TN_accuracy\n",
        "\n",
        "def logRegression(y, X, w, high = 25000, beta = 10**-7, a1 = 1, eps = 10**-5):\n",
        "    i = 0\n",
        "    alpha = beta + a1\n",
        "    T7w = sumMatrix(w, np.multiply(alpha, T7g(y,w,X)))\n",
        "    print(L2Norm(sumMatrix(w, np.multiply(-1 , T7w))))\n",
        "    print(\"Epsilon: \" +str(eps))\n",
        "    er = [0] * high\n",
        "    while L2Norm(sumMatrix(w, np.multiply(-1 , T7w))) > eps and i < high:\n",
        "        alpha = beta + a1 / (i**1.2 + 1)\n",
        "        w = T7w\n",
        "        from sklearn.metrics import accuracy_score\n",
        "        er[i] = 1.0 - accuracy_score(y, np.where(np.matmul(X, w) > 0, 1, 0))\n",
        "        T7w = sumMatrix(w, np.multiply(alpha, T7g(y,w,X)))\n",
        "        i += 1\n",
        "\n",
        "    print(L2Norm(sumMatrix(w, np.multiply(-1 , T7w))))\n",
        "    return T7w, i, er\n",
        "\n",
        "from sklearn import datasets\n",
        "from sklearn.model_selection import train_test_split\n",
        "from sklearn.linear_model import LogisticRegression\n",
        "from sklearn.metrics import accuracy_score\n",
        "\n",
        "iris = datasets.load_iris()\n",
        "X = iris.data\n",
        "y = iris.target\n",
        "\n",
        "init_b = [1] * len(X)\n",
        "X = np.column_stack((init_b, X))\n",
        "\n",
        "X_train, X_test, y_train, y_test = train_test_split(X, y, test_size=0.3, random_state=95)\n",
        "\n",
        "y_train_m = one_hot_encode(y_train)\n",
        "y_test_m = one_hot_encode(y_test)\n",
        "# Example usage with pandas DataFrame\n",
        "irisp = pd.DataFrame(iris.data, columns=iris.feature_names)\n",
        "#print(\"Most Highly Correlated\")\n",
        "#print(most_highly_correlated(irisp, 4))\n",
        "#print('\\n', irisp.head())\n",
        "\n",
        "w = [[1] * len(y_train_m[0])] * len(X_train[0])\n",
        "\n",
        "\n",
        "T7w, i, er = logRegression(y_train_m, X_train, w, 10000)\n",
        "\n",
        "import matplotlib.pyplot as plt\n",
        "x = np.arange(i)\n",
        "plt.plot(x, er[:i], marker='o', linestyle='-')\n",
        "\n",
        "# Adding labels and title\n",
        "plt.xlabel('Iterations')\n",
        "plt.ylabel('Error')\n",
        "plt.title('Accuracy vs Iteration')\n",
        "\n",
        "# Showing the plot\n",
        "plt.grid(True)\n",
        "plt.show()\n",
        "\n",
        "print(\"iterations: \" +str(i))\n",
        "print(np.round(T7w,5))\n",
        "\n",
        "Yp = np.matmul(X_train, T7w)\n",
        "Yp = np.where(Yp > 0, 1, 0)\n",
        "\n",
        "tnA, tpA = calculate_tp_tn_accuracy(y_train_m, Yp)\n",
        "\n",
        "print(\"\")\n",
        "print(\"Train data:\")\n",
        "print(\"True positive accuracy: \" + str(round(tnA*100,3)) + \"%\")\n",
        "print(\"True negative accuracy: \" + str(round(tpA*100,3)) + \"%\")\n",
        "print(\"Total accuracy: \" + str(round(100 * accuracy_score(y_train_m, Yp), 3)) + \"%\")\n",
        "\n",
        "Yp = np.matmul(X_test, T7w)\n",
        "Yp = np.where(Yp > 0, 1, 0)\n",
        "\n",
        "tnA, tpA = calculate_tp_tn_accuracy(y_test_m, Yp)\n",
        "print(\"\")\n",
        "print(\"Test data:\")\n",
        "print(\"True positive accuracy: \" + str(round(tnA*100,3)) + \"%\")\n",
        "print(\"True negative accuracy: \" + str(round(tpA*100,3)) + \"%\")\n",
        "print(\"Total accuracy: \" + str(round(accuracy_score(y_test_m, Yp) * 100, 3)) + \"%\")\n",
        "\n",
        "\n",
        "##Problem 6\n",
        "\n",
        "logistic_regression_model = LogisticRegression()\n",
        "\n",
        "logistic_regression_model.fit(X_train, y_train)\n",
        "y_pred = logistic_regression_model.predict(X_test)\n",
        "\n",
        "tnA, tpA = calculate_tp_tn_accuracy(one_hot_encode(y_test), one_hot_encode(y_pred))\n",
        "\n",
        "print(\"\")\n",
        "print(\"Canned algorithm:\")\n",
        "print(\"Test data:\")\n",
        "print(\"True positive accuracy: \" + str(round(tnA*100,3)) + \"%\")\n",
        "print(\"True negative accuracy: \" + str(round(tpA*100,3)) + \"%\")\n",
        "print(\"Total accuracy: \" + str(round(100 * accuracy_score(y_test, y_pred), 3)) + \"%\")\n",
        "\n",
        "\n"
      ],
      "metadata": {
        "colab": {
          "base_uri": "https://localhost:8080/",
          "height": 915
        },
        "id": "LT4EYDeeeTH_",
        "outputId": "836e448c-ffa0-422c-aef5-042f008180f8"
      },
      "execution_count": 221,
      "outputs": [
        {
          "output_type": "stream",
          "name": "stdout",
          "text": [
            "938.7943009702951\n",
            "Epsilon: 1e-05\n",
            "0.0001770407346345744\n"
          ]
        },
        {
          "output_type": "display_data",
          "data": {
            "text/plain": [
              "<Figure size 640x480 with 1 Axes>"
            ],
            "image/png": "[encoded data removed]"
          },
          "metadata": {}
        },
        {
          "output_type": "stream",
          "name": "stdout",
          "text": [
            "iterations: 10000\n",
            "[[  20.8426     6.42732  -24.88433]\n",
            " [  11.70805    7.89515  -62.85289]\n",
            " [ 101.2499   -17.65591  -81.90851]\n",
            " [-201.72719    2.82652  110.30659]\n",
            " [ -89.53224  -11.76318   64.65459]]\n",
            "\n",
            "Train data:\n",
            "True positive accuracy: 86.667%\n",
            "True negative accuracy: 93.81%\n",
            "Total accuracy: 74.286%\n",
            "\n",
            "Test data:\n",
            "True positive accuracy: 84.444%\n",
            "True negative accuracy: 93.333%\n",
            "Total accuracy: 71.111%\n",
            "\n",
            "Canned algorithm:\n",
            "Test data:\n",
            "True positive accuracy: 97.778%\n",
            "True negative accuracy: 98.889%\n",
            "Total accuracy: 97.778%\n"
          ]
        }
      ]
    }
  ]
}