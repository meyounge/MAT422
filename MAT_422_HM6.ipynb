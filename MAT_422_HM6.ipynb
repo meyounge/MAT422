{
  "nbformat": 4,
  "nbformat_minor": 0,
  "metadata": {
    "colab": {
      "provenance": [],
      "authorship_tag": "ABX9TyMxvtWyakUytQL/Vz5UeeOU",
      "include_colab_link": true
    },
    "kernelspec": {
      "name": "python3",
      "display_name": "Python 3"
    },
    "language_info": {
      "name": "python"
    }
  },
  "cells": [
    {
      "cell_type": "markdown",
      "metadata": {
        "id": "view-in-github",
        "colab_type": "text"
      },
      "source": [
        "<a href=\"https://colab.research.google.com/github/meyounge/MAT422/blob/main/MAT_422_HM6.ipynb\" target=\"_parent\"><img src=\"https://colab.research.google.com/assets/colab-badge.svg\" alt=\"Open In Colab\"/></a>"
      ]
    },
    {
      "cell_type": "markdown",
      "source": [
        "#Homework 2.4"
      ],
      "metadata": {
        "id": "_vAUmnVlN9YA"
      }
    },
    {
      "cell_type": "markdown",
      "source": [
        "##MLE for random samples"
      ],
      "metadata": {
        "id": "KtpjROSpOBwG"
      }
    },
    {
      "cell_type": "markdown",
      "source": [
        "You have a bag of 20 red and blue balls. You randomly sample 5 with replacement, find the MLE of blue balls in our bag of balls.\n",
        "Generalize this to be of any sample size and of any number of different coloured balls (still binomial distribution)"
      ],
      "metadata": {
        "id": "54BgrYo8OFR_"
      }
    },
    {
      "cell_type": "code",
      "source": [
        "import numpy as np\n",
        "\n",
        "def Likelyhood(sample_types, size=20, sample_size=5):\n",
        "  # Define bad of bonomially distributed red and blue balls\n",
        "  X = np.random.binomial(n - 1, 0.5, size=size)\n",
        "  theta_real = np.sum([i == 1 for i in X])\n",
        "\n",
        "  print(\"Data set of red and blue balls:\")\n",
        "  print(X)\n",
        "  print(f\"Real Theta: %d\"%theta_real)\n",
        "\n",
        "  # Create an array of random integers to sample\n",
        "  rand = np.random.randint(low=0, high=size, size=sample)\n",
        "\n",
        "  # Take our sample\n",
        "  x = []\n",
        "  for r in rand:\n",
        "    x.append(X[r])\n",
        "  x = np.array(x)\n",
        "\n",
        "  # Find the total number of blue balls in our sample\n",
        "  k = np.sum([i == 1 for i in x])\n",
        "\n",
        "  print()\n",
        "  print(\"Random Sample\")\n",
        "  print(x)\n",
        "\n",
        "  # Sweep over all possible number of blue balls we could have in our original set\n",
        "  # Find likelyhood for all of them\n",
        "  MLE = []\n",
        "  for i in range(size + 1):\n",
        "    MLE.append((i/size)**k * (1-(i/size))**(sample-k))\n",
        "\n",
        "  return np.array(MLE)\n",
        "\n"
      ],
      "metadata": {
        "id": "f87B7EvxN88A"
      },
      "execution_count": 77,
      "outputs": []
    },
    {
      "cell_type": "markdown",
      "source": [
        "Generalization:"
      ],
      "metadata": {
        "id": "O2TeM9UXoHhK"
      }
    },
    {
      "cell_type": "code",
      "source": [
        "size = 20\n",
        "sample = 5\n",
        "sampling_types = ['r', 'b']\n",
        "n = len(sampling_types)\n",
        "\n",
        "\n",
        "MLE = np.round(Likelyhood(sampling_types, size, sample), 10)\n",
        "\n",
        "# create dataframe for display purposes\n",
        "import pandas as pd\n",
        "data = {\n",
        "    'Theta': np.linspace(0, size, size + 1, dtype='i'),\n",
        "    'Likelyhood'  : MLE\n",
        "}\n",
        "df = pd.DataFrame(data)\n",
        "print(df)\n",
        "\n",
        "# Find the MLE of blue balls\n",
        "print()\n",
        "print(\"MLE: \", np.argwhere(MLE==max(MLE))[0])"
      ],
      "metadata": {
        "colab": {
          "base_uri": "https://localhost:8080/"
        },
        "id": "UdjBH6nel23g",
        "outputId": "3c95ec19-ad78-443d-a81b-29095cd3284c"
      },
      "execution_count": 80,
      "outputs": [
        {
          "output_type": "stream",
          "name": "stdout",
          "text": [
            "Data set of red and blue balls:\n",
            "[0 1 0 0 1 1 1 1 0 1 0 0 1 0 1 1 1 1 1 0]\n",
            "Real Theta: 12\n",
            "\n",
            "Random Sample\n",
            "[1 1 0 0 1]\n",
            "    Theta  Likelyhood\n",
            "0       0    0.000000\n",
            "1       1    0.000113\n",
            "2       2    0.000810\n",
            "3       3    0.002438\n",
            "4       4    0.005120\n",
            "5       5    0.008789\n",
            "6       6    0.013230\n",
            "7       7    0.018115\n",
            "8       8    0.023040\n",
            "9       9    0.027565\n",
            "10     10    0.031250\n",
            "11     11    0.033691\n",
            "12     12    0.034560\n",
            "13     13    0.033642\n",
            "14     14    0.030870\n",
            "15     15    0.026367\n",
            "16     16    0.020480\n",
            "17     17    0.013818\n",
            "18     18    0.007290\n",
            "19     19    0.002143\n",
            "20     20    0.000000\n",
            "\n",
            "MLE:  [12]\n"
          ]
        }
      ]
    },
    {
      "cell_type": "markdown",
      "source": [
        "#Linear regression"
      ],
      "metadata": {
        "id": "IDmtA_ZgodR7"
      }
    },
    {
      "cell_type": "code",
      "source": [
        "from sklearn import datasets\n",
        "from sklearn import linear_model as lm\n",
        "import sklearn as sk\n",
        "\n",
        "X, Y = datasets.load_wine(return_X_y=True, as_frame=True)\n",
        "list(datasets.load_wine().target_names)\n",
        "\n",
        "x_train, x_test, y_train, y_test = sk.model_selection.train_test_split(X, Y, test_size=0.2, random_state=42)\n",
        "\n",
        "regression = lm.LinearRegression()\n",
        "\n",
        "pred = regression.fit(x_train, y_train)\n",
        "y_pred = pred.predict(x_test)\n",
        "print(\"R^2: \", regression.score(x_test, y_test))\n",
        "\n",
        "from sklearn.metrics import accuracy_score\n",
        "print(\"Accuracy = \", accuracy_score(y_pred.astype(int), y_test))\n",
        "\n"
      ],
      "metadata": {
        "colab": {
          "base_uri": "https://localhost:8080/"
        },
        "id": "_oWW9i9ZohUg",
        "outputId": "d7d8b3b0-9b00-4a09-c999-5c0cab50363b"
      },
      "execution_count": 106,
      "outputs": [
        {
          "output_type": "stream",
          "name": "stdout",
          "text": [
            "R^2:  0.8825140263270393\n",
            "Accuracy =  0.6944444444444444\n"
          ]
        }
      ]
    }
  ]
}