{
  "nbformat": 4,
  "nbformat_minor": 0,
  "metadata": {
    "colab": {
      "provenance": [],
      "authorship_tag": "ABX9TyMDuw/NLYoKIg++sml22y1P",
      "include_colab_link": true
    },
    "kernelspec": {
      "name": "python3",
      "display_name": "Python 3"
    },
    "language_info": {
      "name": "python"
    }
  },
  "cells": [
    {
      "cell_type": "markdown",
      "metadata": {
        "id": "view-in-github",
        "colab_type": "text"
      },
      "source": [
        "<a href=\"https://colab.research.google.com/github/meyounge/MAT422/blob/main/MAT_422_HM2.ipynb\" target=\"_parent\"><img src=\"https://colab.research.google.com/assets/colab-badge.svg\" alt=\"Open In Colab\"/></a>"
      ]
    },
    {
      "cell_type": "markdown",
      "source": [
        "#Homework 1.3"
      ],
      "metadata": {
        "id": "GDQ4iKYOrt00"
      }
    },
    {
      "cell_type": "markdown",
      "source": [
        "##Helpful functions from homework 1.2"
      ],
      "metadata": {
        "id": "FeHjgW6zr5TQ"
      }
    },
    {
      "cell_type": "code",
      "source": [
        "import matplotlib.pyplot as plt\n",
        "from mpl_toolkits.mplot3d import Axes3D\n",
        "import numpy as np\n",
        "\n",
        "# This function will generate a set of vectors that form a basis\n",
        "def generateBasisVectors(range = [0, 100],dim=3):\n",
        "  detX = 0\n",
        "  while int(np.round(detX, 10)) == 0: #If it is basically zero will kick due to floating point error\n",
        "    X = np.random.randint(range[0], range[1], [dim, dim])\n",
        "    detX = np.linalg.det(X)\n",
        "\n",
        "  return X\n",
        "\n",
        "#find the projection of vector v onto u\n",
        "def project(v, u):\n",
        "  return np.dot(v, u) / np.dot(u, u) * u\n",
        "\n",
        "def GramSmidt(vectorsV, norm = True):\n",
        "\n",
        "  vectorsU = []\n",
        "  vectorsE = []\n",
        "\n",
        "  vectorsU.append(vectorsV[0])\n",
        "  vectorsE.append(vectorsV[0] / np.linalg.norm(vectorsV[0]))\n",
        "\n",
        "  for v in vectorsV[1:]:\n",
        "    vec = v\n",
        "    for u in vectorsU:\n",
        "      vec = vec - project(vec, u)\n",
        "\n",
        "    vectorsU.append(vec)\n",
        "    vectorsE.append(vec / np.linalg.norm(vec))\n",
        "\n",
        "  if norm:\n",
        "    return np.array(vectorsE)\n",
        "  else:\n",
        "    return np.array(vectorsU)\n",
        "\n"
      ],
      "metadata": {
        "id": "MI3Nfxr_qPZG"
      },
      "execution_count": 2,
      "outputs": []
    },
    {
      "cell_type": "markdown",
      "source": [
        "##1.3.1 QR Decompasition"
      ],
      "metadata": {
        "id": "6_rcKnfysMvR"
      }
    },
    {
      "cell_type": "code",
      "source": [
        "A = generateBasisVectors(range = [-10, 10], dim = 3)\n",
        "print(\"Matrix A\")\n",
        "print(A)"
      ],
      "metadata": {
        "colab": {
          "base_uri": "https://localhost:8080/"
        },
        "id": "VH0bk8Ov_Bf5",
        "outputId": "44ae4cb4-5c67-4314-a594-de692643bedd"
      },
      "execution_count": 38,
      "outputs": [
        {
          "output_type": "stream",
          "name": "stdout",
          "text": [
            "Matrix A\n",
            "[[  7   2   5]\n",
            " [ -7   5  -6]\n",
            " [-10  -1   6]]\n"
          ]
        }
      ]
    },
    {
      "cell_type": "code",
      "source": [
        "def QR_decomposition(A):\n",
        "  dim = A.shape[0]\n",
        "  Q = GramSmidt(A.T, norm = True)\n",
        "\n",
        "  R = np.zeros([dim, dim])\n",
        "\n",
        "  for i in range(dim):\n",
        "    for j in range(dim - i):\n",
        "      R[i , i + j] = np.dot(Q[i], A.T[i + j])\n",
        "\n",
        "  return Q.T, R\n",
        "\n",
        "Q, R = QR_decomposition(A)\n",
        "\n",
        "print(R)\n",
        "print(Q)\n",
        "print()\n",
        "\n",
        "print(\"Check same?\")\n",
        "print(A)\n",
        "print(np.round(np.matmul(Q, R), 5))\n",
        "print()\n"
      ],
      "metadata": {
        "colab": {
          "base_uri": "https://localhost:8080/"
        },
        "id": "b9iS3HMqsS0B",
        "outputId": "b2e90d3c-3af7-4cc9-de6e-53fc5db8bb78"
      },
      "execution_count": 39,
      "outputs": [
        {
          "output_type": "stream",
          "name": "stdout",
          "text": [
            "[[14.07124728 -0.78173596  1.20813739]\n",
            " [ 0.          5.42115199 -4.62181389]\n",
            " [ 0.          0.          8.6127371 ]]\n",
            "[[ 0.49746834  0.44066075  0.74722377]\n",
            " [-0.49746834  0.85057772 -0.17041946]\n",
            " [-0.71066905 -0.28694188  0.64235026]]\n",
            "\n",
            "Check same?\n",
            "[[  7   2   5]\n",
            " [ -7   5  -6]\n",
            " [-10  -1   6]]\n",
            "[[  7.   2.   5.]\n",
            " [ -7.   5.  -6.]\n",
            " [-10.  -1.   6.]]\n",
            "\n"
          ]
        }
      ]
    },
    {
      "cell_type": "markdown",
      "source": [
        "# 1.3.2 Least squares"
      ],
      "metadata": {
        "id": "7hXIq9ue5DDD"
      }
    },
    {
      "cell_type": "code",
      "source": [
        "def leastSquares(A, Y):\n",
        "    AATI = np.linalg.inv(np.matmul(A.T, A))\n",
        "    w = np.matmul(AATI, np.matmul(A.T, Y))\n",
        "    return w\n",
        "\n",
        "def generate_linear_data(n_points=100, slope=2, intercept=5, noise_level=1, range = [0, 10]):\n",
        "    x = np.linspace(range[0], range[1], n_points)\n",
        "    noise = np.random.normal(0, noise_level, n_points)\n",
        "    y = slope * x + intercept + noise\n",
        "    return x, y\n",
        "\n",
        "# Example usage\n",
        "X, Y = generate_linear_data(noise_level = 3)\n",
        "ones_ = np.ones(len(Y), float)\n",
        "\n",
        "A = np.column_stack((ones_, X))\n",
        "M = leastSquares(A, Y)\n",
        "\n",
        "print(M)\n",
        "m = M[1]\n",
        "b = M[0]\n",
        "line_y = m * X + b\n",
        "\n",
        "plt.scatter(X, Y, color='blue', marker='o')\n",
        "plt.plot(X, line_y, color='red', label=f'Line: Y = {m}X + {b}')\n",
        "\n",
        "plt.xlabel('X-axis')\n",
        "plt.ylabel('Y-axis')\n",
        "plt.title('Scatter Plot Example')\n",
        "\n",
        "plt.show()"
      ],
      "metadata": {
        "colab": {
          "base_uri": "https://localhost:8080/",
          "height": 489
        },
        "id": "w-76D4Gf5B88",
        "outputId": "60317e7e-8f1b-4fae-e7e8-2ba07b3c0417"
      },
      "execution_count": 32,
      "outputs": [
        {
          "output_type": "stream",
          "name": "stdout",
          "text": [
            "[5.40979301 1.87443707]\n"
          ]
        },
        {
          "output_type": "display_data",
          "data": {
            "text/plain": [
              "<Figure size 640x480 with 1 Axes>"
            ],
            "image/png": "[encoded data removed]"
          },
          "metadata": {}
        }
      ]
    },
    {
      "cell_type": "markdown",
      "source": [
        "#1.3.3 Linear Regression"
      ],
      "metadata": {
        "id": "v7bn2nH6c_pv"
      }
    },
    {
      "cell_type": "markdown",
      "source": [
        "Simulate a machine learning algorithm for plotting a line though 4 observations using the least squares cost function\n",
        "test this model against the least squares method and compare the R^2 values"
      ],
      "metadata": {
        "id": "L-izg95cbvuH"
      }
    },
    {
      "cell_type": "code",
      "source": [
        "def Rsquared(Y,Yp):\n",
        "  V = Y-Yp\n",
        "  Ymean = np.average(Y)\n",
        "  totvar = np.sum((Y-Ymean)**2)\n",
        "  unexpvar = np.sum(np.abs(V**2))\n",
        "  R2 = 1-unexpvar/totvar\n",
        "  return(R2)\n",
        "\n",
        "def generateRandomFunctionData(obs = 4, points=100, noise=1):\n",
        "  X = 10 * np.random.rand(obs, points)\n",
        "  weights = np.random.rand(obs)\n",
        "\n",
        "  noise_ = np.random.normal(0, noise, points)\n",
        "  Y = np.matmul(X.T, weights) + noise_\n",
        "\n",
        "  return X.T, Y, weights\n",
        "\n",
        "X, Y, _ = generateRandomFunctionData(obs = 4, points=1000, noise=1)\n",
        "\n",
        "ones_ = np.ones(len(Y), float)\n",
        "A = np.column_stack((ones_, X))\n",
        "M = leastSquares(A, Y)\n",
        "\n",
        "print(\"Least Squares model\")\n",
        "print(M)\n",
        "Yp = np.matmul(X, M[1:]) + M[0]\n",
        "\n",
        "R2 = Rsquared(Y,Yp)\n",
        "print(f\"R Squared: {R2}\")\n",
        "print()\n",
        "\n",
        "\n",
        "def LeastSquaresCostFunction(W,X,Y):\n",
        "  G = -1 * Y + np.matmul(X, W)\n",
        "  return np.dot(G,G)\n",
        "\n",
        "def T7LeastSquaresCostFunction(W, X, Y): # The T7 is supposed to look like a triangle to symbolize the gradient\n",
        "  G = -1 * Y + np.matmul(X, W)\n",
        "  return np.matmul(X.T, G)\n",
        "\n",
        "W = [1] * 5\n",
        "alpha = 10**-5\n",
        "i = 0\n",
        "prev = LeastSquaresCostFunction(W, A, Y) + 1\n",
        "current = LeastSquaresCostFunction(W, A, Y)\n",
        "\n",
        "while current < prev and i < 250000:\n",
        "    prev = LeastSquaresCostFunction(W, A, Y)\n",
        "    W = W - alpha * T7LeastSquaresCostFunction(W, A, Y)\n",
        "    current = LeastSquaresCostFunction(W, A, Y)\n",
        "    i = i + 1\n",
        "\n",
        "print(\"Gradients decents model\")\n",
        "print(f\"Iterations taken : {i}\")\n",
        "print(W)\n",
        "Yp = np.matmul(X, W[1:]) + W[0]\n",
        "\n",
        "R2 = Rsquared(Y,Yp)\n",
        "print(f\"R Squared: {R2}\")\n",
        "print()\n",
        "\n",
        "from sklearn.linear_model import LinearRegression\n",
        "LR = LinearRegression().fit(A,Y)\n",
        "K = LR.coef_\n",
        "K[0] = LR.intercept_\n",
        "\n",
        "print(\"SKLearn machine learning linear regression model\")\n",
        "print(K)\n",
        "Yp = np.matmul(X, K[1:]) + K[0]\n",
        "\n",
        "R2 = Rsquared(Y,Yp)\n",
        "print(f\"R Squared: {R2}\")"
      ],
      "metadata": {
        "colab": {
          "base_uri": "https://localhost:8080/"
        },
        "id": "86DF4JvTdGxA",
        "outputId": "3c4932ed-b565-4ccf-c377-abedd667a5f3"
      },
      "execution_count": 51,
      "outputs": [
        {
          "output_type": "stream",
          "name": "stdout",
          "text": [
            "Least Squares model\n",
            "[0.18079126 0.82193992 0.47738792 0.6295641  0.30353513]\n",
            "R Squared: 0.9227077918360834\n",
            "\n",
            "Gradients decents model\n",
            "Iterations taken : 16660\n",
            "[0.18079319 0.82193983 0.47738783 0.629564   0.30353504]\n",
            "R Squared: 0.922707791836061\n",
            "\n",
            "SKLearn machine learning linear regression model\n",
            "[0.18079126 0.82193992 0.47738792 0.6295641  0.30353513]\n",
            "R Squared: 0.9227077918360834\n"
          ]
        }
      ]
    }
  ]
}